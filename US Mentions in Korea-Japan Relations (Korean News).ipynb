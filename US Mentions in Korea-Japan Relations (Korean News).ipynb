{
 "cells": [
  {
   "cell_type": "markdown",
   "metadata": {},
   "source": [
    "# 한일관계 신문기사에서 '미국'에 대한 얘기 추출\n",
    "* 웹크롤링 파일은 따로 참고할 것\n",
    "* 추출된 데이터는 200, 관련도순(0)으로."
   ]
  },
  {
   "cell_type": "code",
   "execution_count": 58,
   "metadata": {},
   "outputs": [],
   "source": [
    "import pandas as pd"
   ]
  },
  {
   "cell_type": "code",
   "execution_count": null,
   "metadata": {},
   "outputs": [],
   "source": []
  },
  {
   "cell_type": "markdown",
   "metadata": {},
   "source": [
    "## 2019년 한일 관계 관련 기사들\n",
    "Y19는 2019년도 '한일'이라는 키워드를 포함한 신문 기사들을 웹크롤링한 결과들이다."
   ]
  },
  {
   "cell_type": "code",
   "execution_count": 3,
   "metadata": {},
   "outputs": [],
   "source": [
    "Y19 = pd.read_csv('Y2019.csv')"
   ]
  },
  {
   "cell_type": "code",
   "execution_count": 4,
   "metadata": {},
   "outputs": [],
   "source": [
    "#US19 = Y19[(Y19[\"title\"].str.contains(\"한일\")) & ~(Y19[\"title\"].str.contains(\"미래\")) & ~(Y19['title'].str.contains(\"지소미아\")) & Y19[\"title\"].str.contains(\"미\")]\n",
    "# 여기서 한일관계에서 '미국'이 거론되는 횟수는 몇번일까?\n",
    "#US19"
   ]
  },
  {
   "cell_type": "code",
   "execution_count": 5,
   "metadata": {},
   "outputs": [],
   "source": [
    "KJUS19 = Y19[(Y19[\"title\"].str.contains(\"한일\")) & ((Y19[\"title\"].str.contains(\"미국\")) | (Y19['title'].str.contains(\"미정부\")) | (Y19['title'].str.contains(\"美\")) | (Y19['title'].str.contains(\"트럼프\")))]"
   ]
  },
  {
   "cell_type": "code",
   "execution_count": 6,
   "metadata": {},
   "outputs": [
    {
     "data": {
      "text/plain": [
       "Unnamed: 0    204\n",
       "date          204\n",
       "title         204\n",
       "source        204\n",
       "contents      204\n",
       "link          204\n",
       "dtype: int64"
      ]
     },
     "execution_count": 6,
     "metadata": {},
     "output_type": "execute_result"
    }
   ],
   "source": [
    "KJUS19.count()"
   ]
  },
  {
   "cell_type": "code",
   "execution_count": 7,
   "metadata": {},
   "outputs": [
    {
     "data": {
      "text/plain": [
       "Unnamed: 0    1972\n",
       "date          1972\n",
       "title         1972\n",
       "source        1972\n",
       "contents      1970\n",
       "link          1972\n",
       "dtype: int64"
      ]
     },
     "execution_count": 7,
     "metadata": {},
     "output_type": "execute_result"
    }
   ],
   "source": [
    "KJ19 = Y19[(Y19[\"title\"].str.contains(\"한일\"))]\n",
    "KJ19.count()"
   ]
  },
  {
   "cell_type": "code",
   "execution_count": null,
   "metadata": {},
   "outputs": [],
   "source": []
  },
  {
   "cell_type": "code",
   "execution_count": null,
   "metadata": {},
   "outputs": [],
   "source": []
  },
  {
   "cell_type": "code",
   "execution_count": null,
   "metadata": {},
   "outputs": [],
   "source": []
  },
  {
   "cell_type": "markdown",
   "metadata": {},
   "source": [
    "## 2018년 한일 관계 관련 기사들\n",
    "Y18는 2018년도 '한일'이라는 키워드를 포함한 신문 기사들을 웹크롤링한 결과들이다."
   ]
  },
  {
   "cell_type": "code",
   "execution_count": 8,
   "metadata": {},
   "outputs": [],
   "source": [
    "Y18 = pd.read_csv('Y2018.csv')"
   ]
  },
  {
   "cell_type": "code",
   "execution_count": 9,
   "metadata": {},
   "outputs": [],
   "source": [
    "#US18 = Y18[(Y18[\"title\"].str.contains(\"한일\")) & ~(Y18[\"title\"].str.contains(\"미래\")) & Y18[\"title\"].str.contains(\"미\", \"트럼프\")]\n",
    "#US18.count()\n",
    "#US18"
   ]
  },
  {
   "cell_type": "code",
   "execution_count": 10,
   "metadata": {},
   "outputs": [],
   "source": [
    "KJUS18 = Y18[(Y18[\"title\"].str.contains(\"한일\")) & ((Y18[\"title\"].str.contains(\"미국\")) | (Y18['title'].str.contains(\"미정부\")) | (Y18['title'].str.contains(\"美\")) | (Y18['title'].str.contains(\"트럼프\")))]"
   ]
  },
  {
   "cell_type": "code",
   "execution_count": 11,
   "metadata": {},
   "outputs": [
    {
     "data": {
      "text/plain": [
       "Unnamed: 0    17\n",
       "date          17\n",
       "title         17\n",
       "source        17\n",
       "contents      17\n",
       "link          17\n",
       "dtype: int64"
      ]
     },
     "execution_count": 11,
     "metadata": {},
     "output_type": "execute_result"
    }
   ],
   "source": [
    "KJUS18.count()"
   ]
  },
  {
   "cell_type": "code",
   "execution_count": 12,
   "metadata": {},
   "outputs": [
    {
     "data": {
      "text/plain": [
       "Unnamed: 0    1823\n",
       "date          1823\n",
       "title         1823\n",
       "source        1823\n",
       "contents      1821\n",
       "link          1823\n",
       "dtype: int64"
      ]
     },
     "execution_count": 12,
     "metadata": {},
     "output_type": "execute_result"
    }
   ],
   "source": [
    "KJ18 = Y18[(Y18[\"title\"].str.contains(\"한일\"))]\n",
    "KJ18.count()"
   ]
  },
  {
   "cell_type": "code",
   "execution_count": null,
   "metadata": {},
   "outputs": [],
   "source": []
  },
  {
   "cell_type": "code",
   "execution_count": null,
   "metadata": {},
   "outputs": [],
   "source": []
  },
  {
   "cell_type": "code",
   "execution_count": null,
   "metadata": {},
   "outputs": [],
   "source": []
  },
  {
   "cell_type": "markdown",
   "metadata": {},
   "source": [
    "## 2017년 한일 관계 관련 기사들\n",
    "Y17는 2017년도 '한일'이라는 키워드를 포함한 신문 기사들을 웹크롤링한 결과들이다."
   ]
  },
  {
   "cell_type": "code",
   "execution_count": 13,
   "metadata": {},
   "outputs": [],
   "source": [
    "Y17 = pd.read_csv('Y2017.csv')"
   ]
  },
  {
   "cell_type": "code",
   "execution_count": 14,
   "metadata": {},
   "outputs": [],
   "source": [
    "#US17 = Y17[(Y17[\"title\"].str.contains(\"한일\")) & ~(Y17[\"title\"].str.contains(\"미래\")) & Y17[\"title\"].str.contains(\"미\")]\n",
    "#US17.count()"
   ]
  },
  {
   "cell_type": "code",
   "execution_count": 15,
   "metadata": {},
   "outputs": [],
   "source": [
    "KJUS17 = Y17[(Y17[\"title\"].str.contains(\"한일\")) & ((Y17[\"title\"].str.contains(\"미국\")) | (Y17['title'].str.contains(\"미정부\")) | (Y17['title'].str.contains(\"美\")) | (Y17['title'].str.contains(\"트럼프\")))]"
   ]
  },
  {
   "cell_type": "code",
   "execution_count": 16,
   "metadata": {},
   "outputs": [
    {
     "data": {
      "text/plain": [
       "Unnamed: 0    9\n",
       "date          9\n",
       "title         9\n",
       "source        9\n",
       "contents      9\n",
       "link          9\n",
       "dtype: int64"
      ]
     },
     "execution_count": 16,
     "metadata": {},
     "output_type": "execute_result"
    }
   ],
   "source": [
    "KJUS17.count()"
   ]
  },
  {
   "cell_type": "code",
   "execution_count": 17,
   "metadata": {},
   "outputs": [
    {
     "data": {
      "text/plain": [
       "Unnamed: 0    1938\n",
       "date          1938\n",
       "title         1938\n",
       "source        1938\n",
       "contents      1936\n",
       "link          1938\n",
       "dtype: int64"
      ]
     },
     "execution_count": 17,
     "metadata": {},
     "output_type": "execute_result"
    }
   ],
   "source": [
    "KJ17 = Y17[(Y17[\"title\"].str.contains(\"한일\"))]\n",
    "KJ17.count()"
   ]
  },
  {
   "cell_type": "code",
   "execution_count": null,
   "metadata": {},
   "outputs": [],
   "source": []
  },
  {
   "cell_type": "code",
   "execution_count": null,
   "metadata": {},
   "outputs": [],
   "source": []
  },
  {
   "cell_type": "markdown",
   "metadata": {},
   "source": [
    "## 2016년 한일 관계 관련 기사들\n",
    "Y16는 2016년도 '한일'이라는 키워드를 포함한 신문 기사들을 웹크롤링한 결과들이다."
   ]
  },
  {
   "cell_type": "code",
   "execution_count": 18,
   "metadata": {},
   "outputs": [],
   "source": [
    "Y16 = pd.read_csv('Y2016.csv')"
   ]
  },
  {
   "cell_type": "code",
   "execution_count": 19,
   "metadata": {},
   "outputs": [],
   "source": [
    "#US16 = Y16[(Y16[\"title\"].str.contains(\"한일\")) & ~(Y16[\"title\"].str.contains(\"미래\")) & Y16[\"title\"].str.contains(\"미\")]\n",
    "#US16.count()\n",
    "#US16.head(1)"
   ]
  },
  {
   "cell_type": "code",
   "execution_count": 20,
   "metadata": {},
   "outputs": [],
   "source": [
    "KJUS16 = Y16[(Y16[\"title\"].str.contains(\"한일\")) & ((Y16[\"title\"].str.contains(\"미국\")) | (Y16['title'].str.contains(\"미정부\")) | (Y16['title'].str.contains(\"美\")) | (Y16['title'].str.contains(\"트럼프\")))]"
   ]
  },
  {
   "cell_type": "code",
   "execution_count": 21,
   "metadata": {},
   "outputs": [
    {
     "data": {
      "text/plain": [
       "Unnamed: 0    37\n",
       "date          37\n",
       "title         37\n",
       "source        37\n",
       "contents      37\n",
       "link          37\n",
       "dtype: int64"
      ]
     },
     "execution_count": 21,
     "metadata": {},
     "output_type": "execute_result"
    }
   ],
   "source": [
    "KJUS16.count()"
   ]
  },
  {
   "cell_type": "code",
   "execution_count": 22,
   "metadata": {},
   "outputs": [
    {
     "data": {
      "text/plain": [
       "Unnamed: 0    1973\n",
       "date          1973\n",
       "title         1973\n",
       "source        1973\n",
       "contents      1973\n",
       "link          1973\n",
       "dtype: int64"
      ]
     },
     "execution_count": 22,
     "metadata": {},
     "output_type": "execute_result"
    }
   ],
   "source": [
    "KJ16 = Y16[(Y16[\"title\"].str.contains(\"한일\"))]\n",
    "KJ16.count()"
   ]
  },
  {
   "cell_type": "code",
   "execution_count": null,
   "metadata": {},
   "outputs": [],
   "source": []
  },
  {
   "cell_type": "code",
   "execution_count": null,
   "metadata": {},
   "outputs": [],
   "source": []
  },
  {
   "cell_type": "markdown",
   "metadata": {},
   "source": [
    "## 2015년 한일 관계 관련 기사들\n",
    "Y15는 2015년도 '한일'이라는 키워드를 포함한 신문 기사들을 웹크롤링한 결과들이다."
   ]
  },
  {
   "cell_type": "code",
   "execution_count": 23,
   "metadata": {},
   "outputs": [],
   "source": [
    "Y15 = pd.read_csv('Y2015.csv')"
   ]
  },
  {
   "cell_type": "code",
   "execution_count": 24,
   "metadata": {},
   "outputs": [],
   "source": [
    "#US15 = Y15[(Y15['title'].str.contains('한일') & ~(Y15[\"title\"].str.contains(\"미래\")) & Y15['title'].str.contains('미'))]\n",
    "#US15.count()"
   ]
  },
  {
   "cell_type": "code",
   "execution_count": 25,
   "metadata": {},
   "outputs": [],
   "source": [
    "KJUS15 = Y15[(Y15[\"title\"].str.contains(\"한일\")) & ((Y15[\"title\"].str.contains(\"미국\")) | (Y15['title'].str.contains(\"미정부\")) | (Y15['title'].str.contains(\"美\")) | (Y15['title'].str.contains(\"트럼프\")))]"
   ]
  },
  {
   "cell_type": "code",
   "execution_count": 26,
   "metadata": {},
   "outputs": [
    {
     "data": {
      "text/plain": [
       "Unnamed: 0    74\n",
       "date          74\n",
       "title         74\n",
       "source        74\n",
       "contents      74\n",
       "link          74\n",
       "dtype: int64"
      ]
     },
     "execution_count": 26,
     "metadata": {},
     "output_type": "execute_result"
    }
   ],
   "source": [
    "KJUS15.count()"
   ]
  },
  {
   "cell_type": "code",
   "execution_count": 27,
   "metadata": {},
   "outputs": [
    {
     "data": {
      "text/plain": [
       "Unnamed: 0    1995\n",
       "date          1995\n",
       "title         1995\n",
       "source        1995\n",
       "contents      1989\n",
       "link          1995\n",
       "dtype: int64"
      ]
     },
     "execution_count": 27,
     "metadata": {},
     "output_type": "execute_result"
    }
   ],
   "source": [
    "KJ15 = Y15[(Y15[\"title\"].str.contains(\"한일\"))]\n",
    "KJ15.count()"
   ]
  },
  {
   "cell_type": "code",
   "execution_count": null,
   "metadata": {},
   "outputs": [],
   "source": []
  },
  {
   "cell_type": "markdown",
   "metadata": {},
   "source": [
    "## 2014년 한일 관계 관련 기사들\n",
    "Y14는 2014년도 '한일'이라는 키워드를 포함한 신문 기사들을 웹크롤링한 결과들이다. "
   ]
  },
  {
   "cell_type": "code",
   "execution_count": 29,
   "metadata": {},
   "outputs": [],
   "source": [
    "Y14 = pd.read_csv('Y2014.csv')"
   ]
  },
  {
   "cell_type": "code",
   "execution_count": 30,
   "metadata": {},
   "outputs": [],
   "source": [
    "#US14 = Y14[(Y14['title'].str.contains('한일')) & ~(Y14['title'].str.contains('미래')) & (Y14['title'].str.contains('미'))]\n",
    "#US14.head(1)\n",
    "#US14.count()"
   ]
  },
  {
   "cell_type": "code",
   "execution_count": 31,
   "metadata": {},
   "outputs": [],
   "source": [
    "KJUS14 = Y14[(Y14[\"title\"].str.contains(\"한일\")) & ((Y14[\"title\"].str.contains(\"미국\")) | (Y14['title'].str.contains(\"미정부\")) | (Y14['title'].str.contains(\"美\")) | (Y14['title'].str.contains(\"트럼프\")))]"
   ]
  },
  {
   "cell_type": "code",
   "execution_count": 32,
   "metadata": {},
   "outputs": [
    {
     "data": {
      "text/plain": [
       "Unnamed: 0    26\n",
       "date          26\n",
       "title         26\n",
       "source        26\n",
       "contents      26\n",
       "link          26\n",
       "dtype: int64"
      ]
     },
     "execution_count": 32,
     "metadata": {},
     "output_type": "execute_result"
    }
   ],
   "source": [
    "KJUS14.count()"
   ]
  },
  {
   "cell_type": "code",
   "execution_count": 33,
   "metadata": {},
   "outputs": [
    {
     "data": {
      "text/plain": [
       "Unnamed: 0    1822\n",
       "date          1822\n",
       "title         1822\n",
       "source        1822\n",
       "contents      1822\n",
       "link          1822\n",
       "dtype: int64"
      ]
     },
     "execution_count": 33,
     "metadata": {},
     "output_type": "execute_result"
    }
   ],
   "source": [
    "KJ14 = Y14[(Y14[\"title\"].str.contains(\"한일\"))]\n",
    "KJ14.count()"
   ]
  },
  {
   "cell_type": "code",
   "execution_count": null,
   "metadata": {},
   "outputs": [],
   "source": []
  },
  {
   "cell_type": "code",
   "execution_count": null,
   "metadata": {},
   "outputs": [],
   "source": []
  },
  {
   "cell_type": "markdown",
   "metadata": {},
   "source": [
    "## 2013년 한일 관계 관련 기사들\n",
    "Y13는 2013년도 '한일'이라는 키워드를 포함한 신문 기사들을 웹크롤링한 결과들이다. "
   ]
  },
  {
   "cell_type": "code",
   "execution_count": 34,
   "metadata": {},
   "outputs": [],
   "source": [
    "Y13 = pd.read_csv('Y2013.csv')"
   ]
  },
  {
   "cell_type": "code",
   "execution_count": 35,
   "metadata": {},
   "outputs": [],
   "source": [
    "#US13 = Y13[(Y13['title'].str.contains('한일')) & ~(Y13['title'].str.contains('미래')) & (Y13['title'].str.contains('미'))]\n",
    "#US13.head(1)\n",
    "#US13.count()"
   ]
  },
  {
   "cell_type": "code",
   "execution_count": 36,
   "metadata": {},
   "outputs": [],
   "source": [
    "KJUS13 = Y13[(Y13[\"title\"].str.contains(\"한일\")) & ((Y13[\"title\"].str.contains(\"미국\")) | (Y13['title'].str.contains(\"미정부\")) | (Y13['title'].str.contains(\"美\")) | (Y13['title'].str.contains(\"트럼프\")))]"
   ]
  },
  {
   "cell_type": "code",
   "execution_count": 37,
   "metadata": {},
   "outputs": [
    {
     "data": {
      "text/plain": [
       "Unnamed: 0    33\n",
       "date          33\n",
       "title         33\n",
       "source        33\n",
       "contents      33\n",
       "link          33\n",
       "dtype: int64"
      ]
     },
     "execution_count": 37,
     "metadata": {},
     "output_type": "execute_result"
    }
   ],
   "source": [
    "KJUS13.count()"
   ]
  },
  {
   "cell_type": "code",
   "execution_count": 38,
   "metadata": {},
   "outputs": [
    {
     "data": {
      "text/plain": [
       "Unnamed: 0    1842\n",
       "date          1842\n",
       "title         1842\n",
       "source        1842\n",
       "contents      1841\n",
       "link          1842\n",
       "dtype: int64"
      ]
     },
     "execution_count": 38,
     "metadata": {},
     "output_type": "execute_result"
    }
   ],
   "source": [
    "KJ13 = Y13[(Y13[\"title\"].str.contains(\"한일\"))]\n",
    "KJ13.count()"
   ]
  },
  {
   "cell_type": "code",
   "execution_count": null,
   "metadata": {},
   "outputs": [],
   "source": []
  },
  {
   "cell_type": "code",
   "execution_count": null,
   "metadata": {},
   "outputs": [],
   "source": []
  },
  {
   "cell_type": "markdown",
   "metadata": {},
   "source": [
    "## 2012년 한일 관계 관련 기사들\n",
    "Y12는 2012년도 '한일'이라는 키워드를 포함한 신문 기사들을 웹크롤링한 결과들이다. "
   ]
  },
  {
   "cell_type": "code",
   "execution_count": 39,
   "metadata": {},
   "outputs": [],
   "source": [
    "Y12 = pd.read_csv('Y2012.csv')"
   ]
  },
  {
   "cell_type": "code",
   "execution_count": 40,
   "metadata": {},
   "outputs": [],
   "source": [
    "#US12 = Y12[(Y12['title'].str.contains('한일')) & ~(Y12['title'].str.contains('미래')) & (Y12['title'].str.contains('미'))]\n",
    "#US12.count()\n",
    "#US12.head(1)"
   ]
  },
  {
   "cell_type": "code",
   "execution_count": 41,
   "metadata": {},
   "outputs": [],
   "source": [
    "KJUS12 = Y12[(Y12[\"title\"].str.contains(\"한일\")) & ((Y12[\"title\"].str.contains(\"미국\")) | (Y12['title'].str.contains(\"미정부\")) | (Y12['title'].str.contains(\"美\")) | (Y12['title'].str.contains(\"트럼프\")))]"
   ]
  },
  {
   "cell_type": "code",
   "execution_count": 42,
   "metadata": {},
   "outputs": [
    {
     "data": {
      "text/plain": [
       "Unnamed: 0    27\n",
       "date          27\n",
       "title         27\n",
       "source        27\n",
       "contents      27\n",
       "link          27\n",
       "dtype: int64"
      ]
     },
     "execution_count": 42,
     "metadata": {},
     "output_type": "execute_result"
    }
   ],
   "source": [
    "KJUS12.count()"
   ]
  },
  {
   "cell_type": "code",
   "execution_count": 43,
   "metadata": {},
   "outputs": [
    {
     "data": {
      "text/plain": [
       "Unnamed: 0    1842\n",
       "date          1842\n",
       "title         1842\n",
       "source        1842\n",
       "contents      1840\n",
       "link          1842\n",
       "dtype: int64"
      ]
     },
     "execution_count": 43,
     "metadata": {},
     "output_type": "execute_result"
    }
   ],
   "source": [
    "KJ12 = Y12[(Y12[\"title\"].str.contains(\"한일\"))]\n",
    "KJ12.count()"
   ]
  },
  {
   "cell_type": "code",
   "execution_count": null,
   "metadata": {},
   "outputs": [],
   "source": []
  },
  {
   "cell_type": "code",
   "execution_count": null,
   "metadata": {},
   "outputs": [],
   "source": []
  },
  {
   "cell_type": "markdown",
   "metadata": {},
   "source": [
    "## 2011년 한일 관계 관련 기사들\n",
    "Y11는 2011년도 '한일'이라는 키워드를 포함한 신문 기사들을 웹크롤링한 결과들이다. "
   ]
  },
  {
   "cell_type": "code",
   "execution_count": 44,
   "metadata": {},
   "outputs": [],
   "source": [
    "Y11 = pd.read_csv('Y2011.csv')"
   ]
  },
  {
   "cell_type": "code",
   "execution_count": 45,
   "metadata": {},
   "outputs": [],
   "source": [
    "#US11 = Y11[(Y11['title'].str.contains('한일')) & ~(Y11['title'].str.contains('미래')) & (Y11['title'].str.contains('미'))]\n",
    "#US11.count()"
   ]
  },
  {
   "cell_type": "code",
   "execution_count": 50,
   "metadata": {},
   "outputs": [],
   "source": [
    "KJUS11 = Y11[(Y11[\"title\"].str.contains(\"한일\")) & ((Y11[\"title\"].str.contains(\"미국\")) | (Y11['title'].str.contains(\"미정부\")) | (Y11['title'].str.contains(\"美\")) | (Y11['title'].str.contains(\"트럼프\")))]"
   ]
  },
  {
   "cell_type": "code",
   "execution_count": 52,
   "metadata": {},
   "outputs": [
    {
     "data": {
      "text/plain": [
       "Unnamed: 0    15\n",
       "date          15\n",
       "title         15\n",
       "source        15\n",
       "contents      15\n",
       "link          15\n",
       "dtype: int64"
      ]
     },
     "execution_count": 52,
     "metadata": {},
     "output_type": "execute_result"
    }
   ],
   "source": [
    "KJUS11.count()"
   ]
  },
  {
   "cell_type": "code",
   "execution_count": 53,
   "metadata": {},
   "outputs": [
    {
     "data": {
      "text/plain": [
       "Unnamed: 0    1771\n",
       "date          1771\n",
       "title         1771\n",
       "source        1771\n",
       "contents      1770\n",
       "link          1771\n",
       "dtype: int64"
      ]
     },
     "execution_count": 53,
     "metadata": {},
     "output_type": "execute_result"
    }
   ],
   "source": [
    "KJ11 = Y11[(Y11[\"title\"].str.contains(\"한일\"))]\n",
    "KJ11.count()"
   ]
  },
  {
   "cell_type": "code",
   "execution_count": null,
   "metadata": {},
   "outputs": [],
   "source": []
  },
  {
   "cell_type": "code",
   "execution_count": null,
   "metadata": {},
   "outputs": [],
   "source": []
  },
  {
   "cell_type": "markdown",
   "metadata": {},
   "source": [
    "## 2010년 한일 관계 관련 기사들\n",
    "Y10는 2010년도 '한일'이라는 키워드를 포함한 신문 기사들을 웹크롤링한 결과들이다. "
   ]
  },
  {
   "cell_type": "code",
   "execution_count": 54,
   "metadata": {},
   "outputs": [],
   "source": [
    "Y10 = pd.read_csv('Y2010.csv')"
   ]
  },
  {
   "cell_type": "code",
   "execution_count": 55,
   "metadata": {},
   "outputs": [],
   "source": [
    "KJUS10 = Y10[(Y10[\"title\"].str.contains(\"한일\")) & ((Y10[\"title\"].str.contains(\"미국\")) | (Y10['title'].str.contains(\"미정부\")) | (Y10['title'].str.contains(\"美\")) | (Y10['title'].str.contains(\"트럼프\")))]"
   ]
  },
  {
   "cell_type": "code",
   "execution_count": 56,
   "metadata": {},
   "outputs": [
    {
     "data": {
      "text/plain": [
       "Unnamed: 0    5\n",
       "date          5\n",
       "title         5\n",
       "source        5\n",
       "contents      5\n",
       "link          5\n",
       "dtype: int64"
      ]
     },
     "execution_count": 56,
     "metadata": {},
     "output_type": "execute_result"
    }
   ],
   "source": [
    "KJUS10.count()"
   ]
  },
  {
   "cell_type": "code",
   "execution_count": 57,
   "metadata": {},
   "outputs": [
    {
     "data": {
      "text/plain": [
       "Unnamed: 0    1779\n",
       "date          1779\n",
       "title         1779\n",
       "source        1779\n",
       "contents      1779\n",
       "link          1779\n",
       "dtype: int64"
      ]
     },
     "execution_count": 57,
     "metadata": {},
     "output_type": "execute_result"
    }
   ],
   "source": [
    "KJ10 = Y10[(Y10[\"title\"].str.contains(\"한일\"))]\n",
    "KJ10.count()"
   ]
  },
  {
   "cell_type": "code",
   "execution_count": null,
   "metadata": {},
   "outputs": [],
   "source": []
  }
 ],
 "metadata": {
  "kernelspec": {
   "display_name": "Python 3",
   "language": "python",
   "name": "python3"
  },
  "language_info": {
   "codemirror_mode": {
    "name": "ipython",
    "version": 3
   },
   "file_extension": ".py",
   "mimetype": "text/x-python",
   "name": "python",
   "nbconvert_exporter": "python",
   "pygments_lexer": "ipython3",
   "version": "3.7.3"
  }
 },
 "nbformat": 4,
 "nbformat_minor": 2
}
