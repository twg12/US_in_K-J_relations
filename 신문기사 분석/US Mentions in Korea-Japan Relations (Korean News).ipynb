{
 "cells": [
  {
   "cell_type": "markdown",
   "metadata": {},
   "source": [
    "# 한일관계 신문기사에서 '미국'에 대한 얘기 추출\n",
    "* 웹크롤링 파일은 따로 참고할 것\n",
    "* 추출된 데이터는 200, 관련도순(0)으로."
   ]
  },
  {
   "cell_type": "code",
   "execution_count": 83,
   "metadata": {},
   "outputs": [],
   "source": [
    "import pandas as pd"
   ]
  },
  {
   "cell_type": "code",
   "execution_count": null,
   "metadata": {},
   "outputs": [],
   "source": []
  },
  {
   "cell_type": "markdown",
   "metadata": {},
   "source": [
    "## 2019년 한일 관계 관련 기사들\n",
    "Y19는 2019년도 '한일'이라는 키워드를 포함한 신문 기사들을 웹크롤링한 결과들이다."
   ]
  },
  {
   "cell_type": "code",
   "execution_count": 84,
   "metadata": {},
   "outputs": [],
   "source": [
    "Y19 = pd.read_csv('Y2019.csv')"
   ]
  },
  {
   "cell_type": "code",
   "execution_count": 85,
   "metadata": {},
   "outputs": [],
   "source": [
    "#US19 = Y19[(Y19[\"title\"].str.contains(\"한일\")) & ~(Y19[\"title\"].str.contains(\"미래\")) & ~(Y19['title'].str.contains(\"지소미아\")) & Y19[\"title\"].str.contains(\"미\")]\n",
    "# 여기서 한일관계에서 '미국'이 거론되는 횟수는 몇번일까?\n",
    "#US19"
   ]
  },
  {
   "cell_type": "code",
   "execution_count": 86,
   "metadata": {},
   "outputs": [],
   "source": [
    "KJUS19 = Y19[(Y19[\"title\"].str.contains(\"한일\")) & ((Y19[\"title\"].str.contains(\"미국\")) | (Y19['title'].str.contains(\"미정부\")) | (Y19['title'].str.contains(\"美\")) | (Y19['title'].str.contains(\"트럼프\")))]"
   ]
  },
  {
   "cell_type": "code",
   "execution_count": 313,
   "metadata": {},
   "outputs": [
    {
     "data": {
      "text/html": [
       "<div>\n",
       "<style scoped>\n",
       "    .dataframe tbody tr th:only-of-type {\n",
       "        vertical-align: middle;\n",
       "    }\n",
       "\n",
       "    .dataframe tbody tr th {\n",
       "        vertical-align: top;\n",
       "    }\n",
       "\n",
       "    .dataframe thead th {\n",
       "        text-align: right;\n",
       "    }\n",
       "</style>\n",
       "<table border=\"1\" class=\"dataframe\">\n",
       "  <thead>\n",
       "    <tr style=\"text-align: right;\">\n",
       "      <th></th>\n",
       "      <th>Unnamed: 0</th>\n",
       "      <th>date</th>\n",
       "      <th>title</th>\n",
       "      <th>source</th>\n",
       "      <th>contents</th>\n",
       "      <th>link</th>\n",
       "    </tr>\n",
       "  </thead>\n",
       "  <tbody>\n",
       "    <tr>\n",
       "      <th>27</th>\n",
       "      <td>27</td>\n",
       "      <td>2일</td>\n",
       "      <td>美국무부 \"한일 갈등, 미래 지향적 해소 독려하고 있다\"</td>\n",
       "      <td>아시아경제언론사 선정</td>\n",
       "      <td>미국 국무부가 27일(현지시간) 한일 갈등의 미래 지향적 해소를 촉구하고 있다고 밝...</td>\n",
       "      <td>https://view.asiae.co.kr/article/2019092806501...</td>\n",
       "    </tr>\n",
       "  </tbody>\n",
       "</table>\n",
       "</div>"
      ],
      "text/plain": [
       "    Unnamed: 0 date                            title       source  \\\n",
       "27          27   2일  美국무부 \"한일 갈등, 미래 지향적 해소 독려하고 있다\"  아시아경제언론사 선정   \n",
       "\n",
       "                                             contents  \\\n",
       "27  미국 국무부가 27일(현지시간) 한일 갈등의 미래 지향적 해소를 촉구하고 있다고 밝...   \n",
       "\n",
       "                                                 link  \n",
       "27  https://view.asiae.co.kr/article/2019092806501...  "
      ]
     },
     "execution_count": 313,
     "metadata": {},
     "output_type": "execute_result"
    }
   ],
   "source": [
    "KJUS19.head(1)"
   ]
  },
  {
   "cell_type": "code",
   "execution_count": 265,
   "metadata": {},
   "outputs": [
    {
     "data": {
      "text/plain": [
       "Unnamed: 0    1972\n",
       "date          1972\n",
       "title         1972\n",
       "source        1972\n",
       "contents      1970\n",
       "link          1972\n",
       "dtype: int64"
      ]
     },
     "execution_count": 265,
     "metadata": {},
     "output_type": "execute_result"
    }
   ],
   "source": [
    "KJ19 = Y19[(Y19[\"title\"].str.contains(\"한일\"))]\n",
    "KJ19.count()"
   ]
  },
  {
   "cell_type": "code",
   "execution_count": 89,
   "metadata": {},
   "outputs": [],
   "source": [
    "AvMen19 = KJUS19['title'].count()/KJ19['title'].count()"
   ]
  },
  {
   "cell_type": "code",
   "execution_count": null,
   "metadata": {},
   "outputs": [],
   "source": []
  },
  {
   "cell_type": "code",
   "execution_count": null,
   "metadata": {},
   "outputs": [],
   "source": []
  },
  {
   "cell_type": "markdown",
   "metadata": {},
   "source": [
    "## 2018년 한일 관계 관련 기사들\n",
    "Y18는 2018년도 '한일'이라는 키워드를 포함한 신문 기사들을 웹크롤링한 결과들이다."
   ]
  },
  {
   "cell_type": "code",
   "execution_count": 90,
   "metadata": {},
   "outputs": [],
   "source": [
    "Y18 = pd.read_csv('Y2018.csv')"
   ]
  },
  {
   "cell_type": "code",
   "execution_count": 91,
   "metadata": {},
   "outputs": [],
   "source": [
    "#US18 = Y18[(Y18[\"title\"].str.contains(\"한일\")) & ~(Y18[\"title\"].str.contains(\"미래\")) & Y18[\"title\"].str.contains(\"미\", \"트럼프\")]\n",
    "#US18.count()\n",
    "#US18"
   ]
  },
  {
   "cell_type": "code",
   "execution_count": 92,
   "metadata": {},
   "outputs": [],
   "source": [
    "KJUS18 = Y18[(Y18[\"title\"].str.contains(\"한일\")) & ((Y18[\"title\"].str.contains(\"미국\")) | (Y18['title'].str.contains(\"미정부\")) | (Y18['title'].str.contains(\"美\")) | (Y18['title'].str.contains(\"트럼프\")))]"
   ]
  },
  {
   "cell_type": "code",
   "execution_count": 93,
   "metadata": {},
   "outputs": [
    {
     "data": {
      "text/plain": [
       "Unnamed: 0    17\n",
       "date          17\n",
       "title         17\n",
       "source        17\n",
       "contents      17\n",
       "link          17\n",
       "dtype: int64"
      ]
     },
     "execution_count": 93,
     "metadata": {},
     "output_type": "execute_result"
    }
   ],
   "source": [
    "KJUS18.count()"
   ]
  },
  {
   "cell_type": "code",
   "execution_count": 94,
   "metadata": {},
   "outputs": [
    {
     "data": {
      "text/plain": [
       "Unnamed: 0    1823\n",
       "date          1823\n",
       "title         1823\n",
       "source        1823\n",
       "contents      1821\n",
       "link          1823\n",
       "dtype: int64"
      ]
     },
     "execution_count": 94,
     "metadata": {},
     "output_type": "execute_result"
    }
   ],
   "source": [
    "KJ18 = Y18[(Y18[\"title\"].str.contains(\"한일\"))]\n",
    "KJ18.count()"
   ]
  },
  {
   "cell_type": "code",
   "execution_count": 95,
   "metadata": {},
   "outputs": [],
   "source": [
    "AvMen18 = KJUS18['title'].count()/KJ18['title'].count()"
   ]
  },
  {
   "cell_type": "code",
   "execution_count": null,
   "metadata": {},
   "outputs": [],
   "source": []
  },
  {
   "cell_type": "code",
   "execution_count": null,
   "metadata": {},
   "outputs": [],
   "source": []
  },
  {
   "cell_type": "markdown",
   "metadata": {},
   "source": [
    "## 2017년 한일 관계 관련 기사들\n",
    "Y17는 2017년도 '한일'이라는 키워드를 포함한 신문 기사들을 웹크롤링한 결과들이다."
   ]
  },
  {
   "cell_type": "code",
   "execution_count": 96,
   "metadata": {},
   "outputs": [],
   "source": [
    "Y17 = pd.read_csv('Y2017.csv')"
   ]
  },
  {
   "cell_type": "code",
   "execution_count": 97,
   "metadata": {},
   "outputs": [],
   "source": [
    "#US17 = Y17[(Y17[\"title\"].str.contains(\"한일\")) & ~(Y17[\"title\"].str.contains(\"미래\")) & Y17[\"title\"].str.contains(\"미\")]\n",
    "#US17.count()"
   ]
  },
  {
   "cell_type": "code",
   "execution_count": 98,
   "metadata": {},
   "outputs": [],
   "source": [
    "KJUS17 = Y17[(Y17[\"title\"].str.contains(\"한일\")) & ((Y17[\"title\"].str.contains(\"미국\")) | (Y17['title'].str.contains(\"미정부\")) | (Y17['title'].str.contains(\"美\")) | (Y17['title'].str.contains(\"트럼프\")))]"
   ]
  },
  {
   "cell_type": "code",
   "execution_count": 99,
   "metadata": {},
   "outputs": [
    {
     "data": {
      "text/plain": [
       "Unnamed: 0    9\n",
       "date          9\n",
       "title         9\n",
       "source        9\n",
       "contents      9\n",
       "link          9\n",
       "dtype: int64"
      ]
     },
     "execution_count": 99,
     "metadata": {},
     "output_type": "execute_result"
    }
   ],
   "source": [
    "KJUS17.count()"
   ]
  },
  {
   "cell_type": "code",
   "execution_count": 100,
   "metadata": {},
   "outputs": [
    {
     "data": {
      "text/plain": [
       "Unnamed: 0    1938\n",
       "date          1938\n",
       "title         1938\n",
       "source        1938\n",
       "contents      1936\n",
       "link          1938\n",
       "dtype: int64"
      ]
     },
     "execution_count": 100,
     "metadata": {},
     "output_type": "execute_result"
    }
   ],
   "source": [
    "KJ17 = Y17[(Y17[\"title\"].str.contains(\"한일\"))]\n",
    "KJ17.count()"
   ]
  },
  {
   "cell_type": "code",
   "execution_count": 101,
   "metadata": {},
   "outputs": [],
   "source": [
    "AvMen17 = KJUS17['title'].count()/KJ17['title'].count()"
   ]
  },
  {
   "cell_type": "code",
   "execution_count": null,
   "metadata": {},
   "outputs": [],
   "source": []
  },
  {
   "cell_type": "markdown",
   "metadata": {},
   "source": [
    "## 2016년 한일 관계 관련 기사들\n",
    "Y16는 2016년도 '한일'이라는 키워드를 포함한 신문 기사들을 웹크롤링한 결과들이다."
   ]
  },
  {
   "cell_type": "code",
   "execution_count": 102,
   "metadata": {},
   "outputs": [],
   "source": [
    "Y16 = pd.read_csv('Y2016.csv')"
   ]
  },
  {
   "cell_type": "code",
   "execution_count": 103,
   "metadata": {},
   "outputs": [],
   "source": [
    "#US16 = Y16[(Y16[\"title\"].str.contains(\"한일\")) & ~(Y16[\"title\"].str.contains(\"미래\")) & Y16[\"title\"].str.contains(\"미\")]\n",
    "#US16.count()\n",
    "#US16.head(1)"
   ]
  },
  {
   "cell_type": "code",
   "execution_count": 268,
   "metadata": {},
   "outputs": [],
   "source": [
    "KJUS16 = Y16[(Y16[\"title\"].str.contains(\"한일\")) & ((Y16[\"title\"].str.contains(\"미국\")) | (Y16['title'].str.contains(\"미정부\")) | (Y16['title'].str.contains(\"美\")) | (Y16['title'].str.contains(\"트럼프\")) | (Y16['title'].str.contains(\"오바마\")))]"
   ]
  },
  {
   "cell_type": "code",
   "execution_count": 269,
   "metadata": {},
   "outputs": [
    {
     "data": {
      "text/plain": [
       "Unnamed: 0    37\n",
       "date          37\n",
       "title         37\n",
       "source        37\n",
       "contents      37\n",
       "link          37\n",
       "dtype: int64"
      ]
     },
     "execution_count": 269,
     "metadata": {},
     "output_type": "execute_result"
    }
   ],
   "source": [
    "KJUS16.count()"
   ]
  },
  {
   "cell_type": "code",
   "execution_count": 270,
   "metadata": {},
   "outputs": [
    {
     "data": {
      "text/plain": [
       "Unnamed: 0    1973\n",
       "date          1973\n",
       "title         1973\n",
       "source        1973\n",
       "contents      1973\n",
       "link          1973\n",
       "dtype: int64"
      ]
     },
     "execution_count": 270,
     "metadata": {},
     "output_type": "execute_result"
    }
   ],
   "source": [
    "KJ16 = Y16[(Y16[\"title\"].str.contains(\"한일\"))]\n",
    "KJ16.count()"
   ]
  },
  {
   "cell_type": "code",
   "execution_count": 107,
   "metadata": {},
   "outputs": [],
   "source": [
    "AvMen16 = KJUS16['title'].count()/KJ16['title'].count()"
   ]
  },
  {
   "cell_type": "code",
   "execution_count": null,
   "metadata": {},
   "outputs": [],
   "source": []
  },
  {
   "cell_type": "markdown",
   "metadata": {},
   "source": [
    "## 2015년 한일 관계 관련 기사들\n",
    "Y15는 2015년도 '한일'이라는 키워드를 포함한 신문 기사들을 웹크롤링한 결과들이다."
   ]
  },
  {
   "cell_type": "code",
   "execution_count": 108,
   "metadata": {},
   "outputs": [],
   "source": [
    "Y15 = pd.read_csv('Y2015.csv')"
   ]
  },
  {
   "cell_type": "code",
   "execution_count": 109,
   "metadata": {},
   "outputs": [],
   "source": [
    "#US15 = Y15[(Y15['title'].str.contains('한일') & ~(Y15[\"title\"].str.contains(\"미래\")) & Y15['title'].str.contains('미'))]\n",
    "#US15.count()"
   ]
  },
  {
   "cell_type": "code",
   "execution_count": 271,
   "metadata": {},
   "outputs": [],
   "source": [
    "KJUS15 = Y15[(Y15[\"title\"].str.contains(\"한일\")) & ((Y15[\"title\"].str.contains(\"미국\")) | (Y15['title'].str.contains(\"미정부\")) | (Y15['title'].str.contains(\"美\")) | (Y15['title'].str.contains(\"오바마\")))]"
   ]
  },
  {
   "cell_type": "code",
   "execution_count": 315,
   "metadata": {},
   "outputs": [
    {
     "data": {
      "text/html": [
       "<div>\n",
       "<style scoped>\n",
       "    .dataframe tbody tr th:only-of-type {\n",
       "        vertical-align: middle;\n",
       "    }\n",
       "\n",
       "    .dataframe tbody tr th {\n",
       "        vertical-align: top;\n",
       "    }\n",
       "\n",
       "    .dataframe thead th {\n",
       "        text-align: right;\n",
       "    }\n",
       "</style>\n",
       "<table border=\"1\" class=\"dataframe\">\n",
       "  <thead>\n",
       "    <tr style=\"text-align: right;\">\n",
       "      <th></th>\n",
       "      <th>Unnamed: 0</th>\n",
       "      <th>date</th>\n",
       "      <th>title</th>\n",
       "      <th>source</th>\n",
       "      <th>contents</th>\n",
       "      <th>link</th>\n",
       "    </tr>\n",
       "  </thead>\n",
       "  <tbody>\n",
       "    <tr>\n",
       "      <th>26</th>\n",
       "      <td>26</td>\n",
       "      <td>2015.12.30.</td>\n",
       "      <td>케리 美 국무장관 “한일 지도자 용단”</td>\n",
       "      <td>KBS</td>\n",
       "      <td>&amp;lt;앵커 멘트&amp;gt; 한일 위안부 협상 타결과 관련해 케리 미 국무장관이 한일 ...</td>\n",
       "      <td>http://news.kbs.co.kr/news/view.do?ncd=3207369...</td>\n",
       "    </tr>\n",
       "  </tbody>\n",
       "</table>\n",
       "</div>"
      ],
      "text/plain": [
       "    Unnamed: 0         date                  title source  \\\n",
       "26          26  2015.12.30.  케리 美 국무장관 “한일 지도자 용단”    KBS   \n",
       "\n",
       "                                             contents  \\\n",
       "26  &lt;앵커 멘트&gt; 한일 위안부 협상 타결과 관련해 케리 미 국무장관이 한일 ...   \n",
       "\n",
       "                                                 link  \n",
       "26  http://news.kbs.co.kr/news/view.do?ncd=3207369...  "
      ]
     },
     "execution_count": 315,
     "metadata": {},
     "output_type": "execute_result"
    }
   ],
   "source": [
    "KJUS15.head(1)"
   ]
  },
  {
   "cell_type": "code",
   "execution_count": 273,
   "metadata": {},
   "outputs": [
    {
     "data": {
      "text/plain": [
       "Unnamed: 0    1995\n",
       "date          1995\n",
       "title         1995\n",
       "source        1995\n",
       "contents      1989\n",
       "link          1995\n",
       "dtype: int64"
      ]
     },
     "execution_count": 273,
     "metadata": {},
     "output_type": "execute_result"
    }
   ],
   "source": [
    "KJ15 = Y15[(Y15[\"title\"].str.contains(\"한일\"))]\n",
    "KJ15.count()"
   ]
  },
  {
   "cell_type": "code",
   "execution_count": 274,
   "metadata": {},
   "outputs": [],
   "source": [
    "AvMen15 = KJUS15['title'].count()/KJ15['title'].count()"
   ]
  },
  {
   "cell_type": "code",
   "execution_count": null,
   "metadata": {},
   "outputs": [],
   "source": []
  },
  {
   "cell_type": "code",
   "execution_count": null,
   "metadata": {},
   "outputs": [],
   "source": []
  },
  {
   "cell_type": "markdown",
   "metadata": {},
   "source": [
    "## 2014년 한일 관계 관련 기사들\n",
    "Y14는 2014년도 '한일'이라는 키워드를 포함한 신문 기사들을 웹크롤링한 결과들이다. "
   ]
  },
  {
   "cell_type": "code",
   "execution_count": 275,
   "metadata": {},
   "outputs": [],
   "source": [
    "Y14 = pd.read_csv('Y2014.csv')"
   ]
  },
  {
   "cell_type": "code",
   "execution_count": 276,
   "metadata": {},
   "outputs": [],
   "source": [
    "#US14 = Y14[(Y14['title'].str.contains('한일')) & ~(Y14['title'].str.contains('미래')) & (Y14['title'].str.contains('미'))]\n",
    "#US14.head(1)\n",
    "#US14.count()"
   ]
  },
  {
   "cell_type": "code",
   "execution_count": 277,
   "metadata": {},
   "outputs": [],
   "source": [
    "KJUS14 = Y14[(Y14[\"title\"].str.contains(\"한일\")) & ((Y14[\"title\"].str.contains(\"미국\")) | (Y14['title'].str.contains(\"미정부\")) | (Y14['title'].str.contains(\"美\")) | (Y14['title'].str.contains(\"오바마\")))]"
   ]
  },
  {
   "cell_type": "code",
   "execution_count": 278,
   "metadata": {},
   "outputs": [
    {
     "data": {
      "text/plain": [
       "Unnamed: 0    39\n",
       "date          39\n",
       "title         39\n",
       "source        39\n",
       "contents      39\n",
       "link          39\n",
       "dtype: int64"
      ]
     },
     "execution_count": 278,
     "metadata": {},
     "output_type": "execute_result"
    }
   ],
   "source": [
    "KJUS14.count()"
   ]
  },
  {
   "cell_type": "code",
   "execution_count": 118,
   "metadata": {},
   "outputs": [
    {
     "data": {
      "text/plain": [
       "Unnamed: 0    1822\n",
       "date          1822\n",
       "title         1822\n",
       "source        1822\n",
       "contents      1822\n",
       "link          1822\n",
       "dtype: int64"
      ]
     },
     "execution_count": 118,
     "metadata": {},
     "output_type": "execute_result"
    }
   ],
   "source": [
    "KJ14 = Y14[(Y14[\"title\"].str.contains(\"한일\"))]\n",
    "KJ14.count()"
   ]
  },
  {
   "cell_type": "code",
   "execution_count": 145,
   "metadata": {},
   "outputs": [],
   "source": [
    "AvMen14 = KJUS14['title'].count()/KJ14['title'].count()"
   ]
  },
  {
   "cell_type": "code",
   "execution_count": null,
   "metadata": {},
   "outputs": [],
   "source": []
  },
  {
   "cell_type": "markdown",
   "metadata": {},
   "source": [
    "## 2013년 한일 관계 관련 기사들\n",
    "Y13는 2013년도 '한일'이라는 키워드를 포함한 신문 기사들을 웹크롤링한 결과들이다. "
   ]
  },
  {
   "cell_type": "code",
   "execution_count": 120,
   "metadata": {},
   "outputs": [],
   "source": [
    "Y13 = pd.read_csv('Y2013.csv')"
   ]
  },
  {
   "cell_type": "code",
   "execution_count": 121,
   "metadata": {},
   "outputs": [],
   "source": [
    "#US13 = Y13[(Y13['title'].str.contains('한일')) & ~(Y13['title'].str.contains('미래')) & (Y13['title'].str.contains('미'))]\n",
    "#US13.head(1)\n",
    "#US13.count()"
   ]
  },
  {
   "cell_type": "code",
   "execution_count": 279,
   "metadata": {},
   "outputs": [],
   "source": [
    "KJUS13 = Y13[(Y13[\"title\"].str.contains(\"한일\")) & ((Y13[\"title\"].str.contains(\"미국\")) | (Y13['title'].str.contains(\"미정부\")) | (Y13['title'].str.contains(\"美\")) | (Y13['title'].str.contains(\"오바마\")))]"
   ]
  },
  {
   "cell_type": "code",
   "execution_count": 280,
   "metadata": {},
   "outputs": [
    {
     "data": {
      "text/plain": [
       "Unnamed: 0    33\n",
       "date          33\n",
       "title         33\n",
       "source        33\n",
       "contents      33\n",
       "link          33\n",
       "dtype: int64"
      ]
     },
     "execution_count": 280,
     "metadata": {},
     "output_type": "execute_result"
    }
   ],
   "source": [
    "KJUS13.count()"
   ]
  },
  {
   "cell_type": "code",
   "execution_count": 124,
   "metadata": {},
   "outputs": [
    {
     "data": {
      "text/plain": [
       "Unnamed: 0    1842\n",
       "date          1842\n",
       "title         1842\n",
       "source        1842\n",
       "contents      1841\n",
       "link          1842\n",
       "dtype: int64"
      ]
     },
     "execution_count": 124,
     "metadata": {},
     "output_type": "execute_result"
    }
   ],
   "source": [
    "KJ13 = Y13[(Y13[\"title\"].str.contains(\"한일\"))]\n",
    "KJ13.count()"
   ]
  },
  {
   "cell_type": "code",
   "execution_count": 125,
   "metadata": {},
   "outputs": [],
   "source": [
    "AvMen13 = KJUS13['title'].count()/KJ13['title'].count()"
   ]
  },
  {
   "cell_type": "code",
   "execution_count": null,
   "metadata": {},
   "outputs": [],
   "source": []
  },
  {
   "cell_type": "markdown",
   "metadata": {},
   "source": [
    "## 2012년 한일 관계 관련 기사들\n",
    "Y12는 2012년도 '한일'이라는 키워드를 포함한 신문 기사들을 웹크롤링한 결과들이다. "
   ]
  },
  {
   "cell_type": "code",
   "execution_count": 283,
   "metadata": {},
   "outputs": [],
   "source": [
    "Y12 = pd.read_csv('Y2012.csv')"
   ]
  },
  {
   "cell_type": "code",
   "execution_count": 284,
   "metadata": {},
   "outputs": [],
   "source": [
    "#US12 = Y12[(Y12['title'].str.contains('한일')) & ~(Y12['title'].str.contains('미래')) & (Y12['title'].str.contains('미'))]\n",
    "#US12.count()\n",
    "#US12.head(1)"
   ]
  },
  {
   "cell_type": "code",
   "execution_count": 285,
   "metadata": {},
   "outputs": [],
   "source": [
    "KJUS12 = Y12[(Y12[\"title\"].str.contains(\"한일\")) & ((Y12[\"title\"].str.contains(\"미국\")) | (Y12['title'].str.contains(\"미정부\")) | (Y12['title'].str.contains(\"美\")) | (Y12['title'].str.contains(\"오바마\")))]"
   ]
  },
  {
   "cell_type": "code",
   "execution_count": 286,
   "metadata": {},
   "outputs": [
    {
     "data": {
      "text/plain": [
       "Unnamed: 0    27\n",
       "date          27\n",
       "title         27\n",
       "source        27\n",
       "contents      27\n",
       "link          27\n",
       "dtype: int64"
      ]
     },
     "execution_count": 286,
     "metadata": {},
     "output_type": "execute_result"
    }
   ],
   "source": [
    "KJUS12.count()"
   ]
  },
  {
   "cell_type": "code",
   "execution_count": 130,
   "metadata": {},
   "outputs": [
    {
     "data": {
      "text/plain": [
       "Unnamed: 0    1842\n",
       "date          1842\n",
       "title         1842\n",
       "source        1842\n",
       "contents      1840\n",
       "link          1842\n",
       "dtype: int64"
      ]
     },
     "execution_count": 130,
     "metadata": {},
     "output_type": "execute_result"
    }
   ],
   "source": [
    "KJ12 = Y12[(Y12[\"title\"].str.contains(\"한일\"))]\n",
    "KJ12.count()"
   ]
  },
  {
   "cell_type": "code",
   "execution_count": 131,
   "metadata": {},
   "outputs": [],
   "source": [
    "AvMen12 = KJUS12['title'].count()/KJ12['title'].count()"
   ]
  },
  {
   "cell_type": "code",
   "execution_count": null,
   "metadata": {},
   "outputs": [],
   "source": []
  },
  {
   "cell_type": "markdown",
   "metadata": {},
   "source": [
    "## 2011년 한일 관계 관련 기사들\n",
    "Y11는 2011년도 '한일'이라는 키워드를 포함한 신문 기사들을 웹크롤링한 결과들이다. "
   ]
  },
  {
   "cell_type": "code",
   "execution_count": 132,
   "metadata": {},
   "outputs": [],
   "source": [
    "Y11 = pd.read_csv('Y2011.csv')"
   ]
  },
  {
   "cell_type": "code",
   "execution_count": 133,
   "metadata": {},
   "outputs": [],
   "source": [
    "#US11 = Y11[(Y11['title'].str.contains('한일')) & ~(Y11['title'].str.contains('미래')) & (Y11['title'].str.contains('미'))]\n",
    "#US11.count()"
   ]
  },
  {
   "cell_type": "code",
   "execution_count": 287,
   "metadata": {},
   "outputs": [],
   "source": [
    "KJUS11 = Y11[(Y11[\"title\"].str.contains(\"한일\")) & ((Y11[\"title\"].str.contains(\"미국\")) | (Y11['title'].str.contains(\"미정부\")) | (Y11['title'].str.contains(\"美\")) | (Y11['title'].str.contains(\"오바마\")))]"
   ]
  },
  {
   "cell_type": "code",
   "execution_count": 288,
   "metadata": {},
   "outputs": [
    {
     "data": {
      "text/plain": [
       "Unnamed: 0    15\n",
       "date          15\n",
       "title         15\n",
       "source        15\n",
       "contents      15\n",
       "link          15\n",
       "dtype: int64"
      ]
     },
     "execution_count": 288,
     "metadata": {},
     "output_type": "execute_result"
    }
   ],
   "source": [
    "KJUS11.count()"
   ]
  },
  {
   "cell_type": "code",
   "execution_count": 136,
   "metadata": {},
   "outputs": [
    {
     "data": {
      "text/plain": [
       "Unnamed: 0    1771\n",
       "date          1771\n",
       "title         1771\n",
       "source        1771\n",
       "contents      1770\n",
       "link          1771\n",
       "dtype: int64"
      ]
     },
     "execution_count": 136,
     "metadata": {},
     "output_type": "execute_result"
    }
   ],
   "source": [
    "KJ11 = Y11[(Y11[\"title\"].str.contains(\"한일\"))]\n",
    "KJ11.count()"
   ]
  },
  {
   "cell_type": "code",
   "execution_count": 137,
   "metadata": {},
   "outputs": [],
   "source": [
    "AvMen11 = KJUS11['title'].count()/KJ11['title'].count()"
   ]
  },
  {
   "cell_type": "code",
   "execution_count": null,
   "metadata": {},
   "outputs": [],
   "source": []
  },
  {
   "cell_type": "markdown",
   "metadata": {},
   "source": [
    "## 2010년 한일 관계 관련 기사들\n",
    "Y10는 2010년도 '한일'이라는 키워드를 포함한 신문 기사들을 웹크롤링한 결과들이다. "
   ]
  },
  {
   "cell_type": "code",
   "execution_count": 138,
   "metadata": {},
   "outputs": [],
   "source": [
    "Y10 = pd.read_csv('Y2010.csv')"
   ]
  },
  {
   "cell_type": "code",
   "execution_count": 289,
   "metadata": {},
   "outputs": [],
   "source": [
    "KJUS10 = Y10[(Y10[\"title\"].str.contains(\"한일\")) & ((Y10[\"title\"].str.contains(\"미국\")) | (Y10['title'].str.contains(\"미정부\")) | (Y10['title'].str.contains(\"美\")) | (Y10['title'].str.contains(\"오바마\")))]"
   ]
  },
  {
   "cell_type": "code",
   "execution_count": 290,
   "metadata": {},
   "outputs": [
    {
     "data": {
      "text/plain": [
       "Unnamed: 0    5\n",
       "date          5\n",
       "title         5\n",
       "source        5\n",
       "contents      5\n",
       "link          5\n",
       "dtype: int64"
      ]
     },
     "execution_count": 290,
     "metadata": {},
     "output_type": "execute_result"
    }
   ],
   "source": [
    "KJUS10.count()"
   ]
  },
  {
   "cell_type": "code",
   "execution_count": 291,
   "metadata": {},
   "outputs": [
    {
     "data": {
      "text/plain": [
       "Unnamed: 0    1779\n",
       "date          1779\n",
       "title         1779\n",
       "source        1779\n",
       "contents      1779\n",
       "link          1779\n",
       "dtype: int64"
      ]
     },
     "execution_count": 291,
     "metadata": {},
     "output_type": "execute_result"
    }
   ],
   "source": [
    "KJ10 = Y10[(Y10[\"title\"].str.contains(\"한일\"))]\n",
    "KJ10.count()"
   ]
  },
  {
   "cell_type": "code",
   "execution_count": 292,
   "metadata": {},
   "outputs": [],
   "source": [
    "AvMen10 = KJUS10['title'].count()/KJ10['title'].count()"
   ]
  },
  {
   "cell_type": "code",
   "execution_count": null,
   "metadata": {},
   "outputs": [],
   "source": []
  },
  {
   "cell_type": "code",
   "execution_count": null,
   "metadata": {},
   "outputs": [],
   "source": []
  },
  {
   "cell_type": "code",
   "execution_count": null,
   "metadata": {},
   "outputs": [],
   "source": []
  },
  {
   "cell_type": "markdown",
   "metadata": {},
   "source": [
    "## 트렌드 찾기"
   ]
  },
  {
   "cell_type": "code",
   "execution_count": 293,
   "metadata": {},
   "outputs": [],
   "source": [
    "import numpy as np"
   ]
  },
  {
   "cell_type": "code",
   "execution_count": 297,
   "metadata": {},
   "outputs": [
    {
     "data": {
      "text/plain": [
       "[0.002810567734682406,\n",
       " 0.00846979107848673,\n",
       " 0.014657980456026058,\n",
       " 0.017915309446254073,\n",
       " 0.014270032930845226,\n",
       " 0.037092731829573934,\n",
       " 0.01875316776482514,\n",
       " 0.0046439628482972135,\n",
       " 0.009325287986834888,\n",
       " 0.10344827586206896]"
      ]
     },
     "execution_count": 297,
     "metadata": {},
     "output_type": "execute_result"
    }
   ],
   "source": [
    "AvMen = [AvMen10, AvMen11, AvMen12, AvMen13, AvMen14, AvMen15, AvMen16, AvMen17, AvMen18, AvMen19]\n",
    "AvMen"
   ]
  },
  {
   "cell_type": "code",
   "execution_count": 298,
   "metadata": {},
   "outputs": [
    {
     "data": {
      "text/plain": [
       "array([ 0.281,  0.847,  1.466,  1.792,  1.427,  3.709,  1.875,  0.464,\n",
       "        0.933, 10.345])"
      ]
     },
     "execution_count": 298,
     "metadata": {},
     "output_type": "execute_result"
    }
   ],
   "source": [
    "def find_percentage(n):\n",
    "    total = []\n",
    "    for item in n:\n",
    "        item *= 100\n",
    "        total.append(item)\n",
    "    return total\n",
    "\n",
    "AvMen_Percentage = np.around(find_percentage(AvMen), 3)\n",
    "AvMen_Percentage"
   ]
  },
  {
   "cell_type": "code",
   "execution_count": 266,
   "metadata": {},
   "outputs": [],
   "source": [
    "# Numpy array를 어떻게 테이블로 바꾸어 column 이름을 추가할지 여쭤볼 것\n",
    "# 2019년 데이터 왜 저래"
   ]
  },
  {
   "cell_type": "code",
   "execution_count": null,
   "metadata": {},
   "outputs": [],
   "source": []
  },
  {
   "cell_type": "code",
   "execution_count": null,
   "metadata": {},
   "outputs": [],
   "source": []
  },
  {
   "cell_type": "code",
   "execution_count": 316,
   "metadata": {},
   "outputs": [
    {
     "data": {
      "text/plain": [
       "26    http://news.kbs.co.kr/news/view.do?ncd=3207369...\n",
       "Name: link, dtype: object"
      ]
     },
     "execution_count": 316,
     "metadata": {},
     "output_type": "execute_result"
    }
   ],
   "source": [
    "KJUS15['link'].head(1)"
   ]
  },
  {
   "cell_type": "code",
   "execution_count": 317,
   "metadata": {},
   "outputs": [
    {
     "data": {
      "text/html": [
       "<div>\n",
       "<style scoped>\n",
       "    .dataframe tbody tr th:only-of-type {\n",
       "        vertical-align: middle;\n",
       "    }\n",
       "\n",
       "    .dataframe tbody tr th {\n",
       "        vertical-align: top;\n",
       "    }\n",
       "\n",
       "    .dataframe thead th {\n",
       "        text-align: right;\n",
       "    }\n",
       "</style>\n",
       "<table border=\"1\" class=\"dataframe\">\n",
       "  <thead>\n",
       "    <tr style=\"text-align: right;\">\n",
       "      <th></th>\n",
       "      <th>Unnamed: 0</th>\n",
       "      <th>date</th>\n",
       "      <th>title</th>\n",
       "      <th>source</th>\n",
       "      <th>contents</th>\n",
       "      <th>link</th>\n",
       "    </tr>\n",
       "  </thead>\n",
       "  <tbody>\n",
       "    <tr>\n",
       "      <th>26</th>\n",
       "      <td>26</td>\n",
       "      <td>2015.12.30.</td>\n",
       "      <td>케리 美 국무장관 “한일 지도자 용단”</td>\n",
       "      <td>KBS</td>\n",
       "      <td>&amp;lt;앵커 멘트&amp;gt; 한일 위안부 협상 타결과 관련해 케리 미 국무장관이 한일 ...</td>\n",
       "      <td>http://news.kbs.co.kr/news/view.do?ncd=3207369...</td>\n",
       "    </tr>\n",
       "  </tbody>\n",
       "</table>\n",
       "</div>"
      ],
      "text/plain": [
       "    Unnamed: 0         date                  title source  \\\n",
       "26          26  2015.12.30.  케리 美 국무장관 “한일 지도자 용단”    KBS   \n",
       "\n",
       "                                             contents  \\\n",
       "26  &lt;앵커 멘트&gt; 한일 위안부 협상 타결과 관련해 케리 미 국무장관이 한일 ...   \n",
       "\n",
       "                                                 link  \n",
       "26  http://news.kbs.co.kr/news/view.do?ncd=3207369...  "
      ]
     },
     "execution_count": 317,
     "metadata": {},
     "output_type": "execute_result"
    }
   ],
   "source": [
    "KJUS15.head(1)"
   ]
  },
  {
   "cell_type": "code",
   "execution_count": null,
   "metadata": {},
   "outputs": [],
   "source": []
  }
 ],
 "metadata": {
  "kernelspec": {
   "display_name": "Python 3",
   "language": "python",
   "name": "python3"
  },
  "language_info": {
   "codemirror_mode": {
    "name": "ipython",
    "version": 3
   },
   "file_extension": ".py",
   "mimetype": "text/x-python",
   "name": "python",
   "nbconvert_exporter": "python",
   "pygments_lexer": "ipython3",
   "version": "3.7.3"
  }
 },
 "nbformat": 4,
 "nbformat_minor": 2
}
