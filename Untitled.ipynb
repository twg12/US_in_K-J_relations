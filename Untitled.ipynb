{
 "cells": [
  {
   "cell_type": "markdown",
   "metadata": {},
   "source": [
    "# 한일관계 신문기사에서 '미국'에 대한 얘기 추출\n",
    "* 웹크롤링 파일은 따로 참고할 것\n",
    "* 추출된 데이터는 200, 관련도순(0)으로."
   ]
  },
  {
   "cell_type": "code",
   "execution_count": 2,
   "metadata": {},
   "outputs": [],
   "source": [
    "import pandas as pd"
   ]
  },
  {
   "cell_type": "markdown",
   "metadata": {},
   "source": [
    "## 2019년 한일 관계 관련 기사들\n",
    "Y19는 2019년도 '한일'이라는 키워드를 포함한 신문 기사들을 웹크롤링한 결과들이다."
   ]
  },
  {
   "cell_type": "code",
   "execution_count": 93,
   "metadata": {},
   "outputs": [],
   "source": [
    "Y19 = pd.read_csv('Y2019.csv')"
   ]
  },
  {
   "cell_type": "code",
   "execution_count": 218,
   "metadata": {},
   "outputs": [],
   "source": [
    "#US19 = Y19[(Y19[\"title\"].str.contains(\"한일\")) & ~(Y19[\"title\"].str.contains(\"미래\")) & ~(Y19['title'].str.contains(\"지소미아\")) & Y19[\"title\"].str.contains(\"미\")]\n",
    "# 여기서 한일관계에서 '미국'이 거론되는 횟수는 몇번일까?\n",
    "#US19"
   ]
  },
  {
   "cell_type": "code",
   "execution_count": 219,
   "metadata": {},
   "outputs": [],
   "source": [
    "KJUS19 = Y19[(Y19[\"title\"].str.contains(\"한일\")) & ((Y19[\"title\"].str.contains(\"미국\")) | (Y19['title'].str.contains(\"미정부\")) | (Y19['title'].str.contains(\"美\")) | (Y19['title'].str.contains(\"트럼프\")))]"
   ]
  },
  {
   "cell_type": "code",
   "execution_count": 223,
   "metadata": {},
   "outputs": [],
   "source": [
    "KJUS19.count()"
   ]
  },
  {
   "cell_type": "code",
   "execution_count": 221,
   "metadata": {},
   "outputs": [],
   "source": []
  },
  {
   "cell_type": "code",
   "execution_count": null,
   "metadata": {},
   "outputs": [],
   "source": []
  },
  {
   "cell_type": "code",
   "execution_count": null,
   "metadata": {},
   "outputs": [],
   "source": []
  },
  {
   "cell_type": "code",
   "execution_count": null,
   "metadata": {},
   "outputs": [],
   "source": []
  },
  {
   "cell_type": "markdown",
   "metadata": {},
   "source": [
    "## 2018년 한일 관계 관련 기사들\n",
    "Y18는 2018년도 '한일'이라는 키워드를 포함한 신문 기사들을 웹크롤링한 결과들이다."
   ]
  },
  {
   "cell_type": "code",
   "execution_count": 104,
   "metadata": {},
   "outputs": [],
   "source": [
    "Y18 = pd.read_csv('Y2018.csv')"
   ]
  },
  {
   "cell_type": "code",
   "execution_count": 228,
   "metadata": {},
   "outputs": [],
   "source": [
    "#US18 = Y18[(Y18[\"title\"].str.contains(\"한일\")) & ~(Y18[\"title\"].str.contains(\"미래\")) & Y18[\"title\"].str.contains(\"미\", \"트럼프\")]\n",
    "#US18.count()\n",
    "#US18"
   ]
  },
  {
   "cell_type": "code",
   "execution_count": 229,
   "metadata": {},
   "outputs": [],
   "source": [
    "KJUS18 = Y18[(Y18[\"title\"].str.contains(\"한일\")) & ((Y18[\"title\"].str.contains(\"미국\")) | (Y18['title'].str.contains(\"미정부\")) | (Y18['title'].str.contains(\"美\")) | (Y18['title'].str.contains(\"트럼프\")))]"
   ]
  },
  {
   "cell_type": "code",
   "execution_count": 230,
   "metadata": {},
   "outputs": [],
   "source": [
    "KJUS18.count()"
   ]
  },
  {
   "cell_type": "code",
   "execution_count": 235,
   "metadata": {},
   "outputs": [],
   "source": []
  },
  {
   "cell_type": "code",
   "execution_count": 236,
   "metadata": {},
   "outputs": [],
   "source": []
  },
  {
   "cell_type": "code",
   "execution_count": null,
   "metadata": {},
   "outputs": [],
   "source": []
  },
  {
   "cell_type": "code",
   "execution_count": null,
   "metadata": {},
   "outputs": [],
   "source": []
  },
  {
   "cell_type": "markdown",
   "metadata": {},
   "source": [
    "## 2017년 한일 관계 관련 기사들\n",
    "Y17는 2017년도 '한일'이라는 키워드를 포함한 신문 기사들을 웹크롤링한 결과들이다."
   ]
  },
  {
   "cell_type": "code",
   "execution_count": 238,
   "metadata": {},
   "outputs": [],
   "source": [
    "Y17 = pd.read_csv('Y2017.csv')"
   ]
  },
  {
   "cell_type": "code",
   "execution_count": 239,
   "metadata": {},
   "outputs": [],
   "source": [
    "#US17 = Y17[(Y17[\"title\"].str.contains(\"한일\")) & ~(Y17[\"title\"].str.contains(\"미래\")) & Y17[\"title\"].str.contains(\"미\")]\n",
    "#US17.count()"
   ]
  },
  {
   "cell_type": "code",
   "execution_count": null,
   "metadata": {},
   "outputs": [],
   "source": [
    "KJUS17 = Y17[(Y17[\"title\"].str.contains(\"한일\")) & ((Y17[\"title\"].str.contains(\"미국\")) | (Y17['title'].str.contains(\"미정부\")) | (Y17['title'].str.contains(\"美\")) | (Y17['title'].str.contains(\"트럼프\")))]"
   ]
  },
  {
   "cell_type": "code",
   "execution_count": 241,
   "metadata": {},
   "outputs": [],
   "source": [
    "KJUS17.count()"
   ]
  },
  {
   "cell_type": "code",
   "execution_count": null,
   "metadata": {},
   "outputs": [],
   "source": []
  },
  {
   "cell_type": "code",
   "execution_count": null,
   "metadata": {},
   "outputs": [],
   "source": []
  },
  {
   "cell_type": "code",
   "execution_count": null,
   "metadata": {},
   "outputs": [],
   "source": []
  },
  {
   "cell_type": "markdown",
   "metadata": {},
   "source": [
    "## 2016년 한일 관계 관련 기사들\n",
    "Y16는 2016년도 '한일'이라는 키워드를 포함한 신문 기사들을 웹크롤링한 결과들이다."
   ]
  },
  {
   "cell_type": "code",
   "execution_count": 243,
   "metadata": {},
   "outputs": [],
   "source": [
    "Y16 = pd.read_csv('Y2016.csv')"
   ]
  },
  {
   "cell_type": "code",
   "execution_count": 244,
   "metadata": {},
   "outputs": [],
   "source": [
    "#US16 = Y16[(Y16[\"title\"].str.contains(\"한일\")) & ~(Y16[\"title\"].str.contains(\"미래\")) & Y16[\"title\"].str.contains(\"미\")]\n",
    "#US16.count()\n",
    "#US16.head(1)"
   ]
  },
  {
   "cell_type": "code",
   "execution_count": 245,
   "metadata": {},
   "outputs": [],
   "source": [
    "KJUS16 = Y16[(Y16[\"title\"].str.contains(\"한일\")) & ((Y16[\"title\"].str.contains(\"미국\")) | (Y16['title'].str.contains(\"미정부\")) | (Y16['title'].str.contains(\"美\")) | (Y16['title'].str.contains(\"트럼프\")))]"
   ]
  },
  {
   "cell_type": "code",
   "execution_count": 246,
   "metadata": {},
   "outputs": [],
   "source": [
    "KJUS16.count()"
   ]
  },
  {
   "cell_type": "code",
   "execution_count": 195,
   "metadata": {},
   "outputs": [],
   "source": []
  },
  {
   "cell_type": "code",
   "execution_count": null,
   "metadata": {},
   "outputs": [],
   "source": []
  },
  {
   "cell_type": "code",
   "execution_count": null,
   "metadata": {},
   "outputs": [],
   "source": []
  },
  {
   "cell_type": "markdown",
   "metadata": {},
   "source": [
    "## 2015년 한일 관계 관련 기사들\n",
    "Y15는 2015년도 '한일'이라는 키워드를 포함한 신문 기사들을 웹크롤링한 결과들이다."
   ]
  },
  {
   "cell_type": "code",
   "execution_count": 112,
   "metadata": {},
   "outputs": [],
   "source": [
    "Y15 = pd.read_csv('Y2015.csv')"
   ]
  },
  {
   "cell_type": "code",
   "execution_count": 247,
   "metadata": {},
   "outputs": [],
   "source": [
    "#US15 = Y15[(Y15['title'].str.contains('한일') & ~(Y15[\"title\"].str.contains(\"미래\")) & Y15['title'].str.contains('미'))]\n",
    "#US15.count()"
   ]
  },
  {
   "cell_type": "code",
   "execution_count": 248,
   "metadata": {},
   "outputs": [],
   "source": [
    "KJUS15 = Y15[(Y15[\"title\"].str.contains(\"한일\")) & ((Y15[\"title\"].str.contains(\"미국\")) | (Y15['title'].str.contains(\"미정부\")) | (Y15['title'].str.contains(\"美\")) | (Y15['title'].str.contains(\"트럼프\")))]"
   ]
  },
  {
   "cell_type": "code",
   "execution_count": 265,
   "metadata": {},
   "outputs": [
    {
     "data": {
      "text/plain": [
       "Unnamed: 0    74\n",
       "date          74\n",
       "title         74\n",
       "source        74\n",
       "contents      74\n",
       "link          74\n",
       "dtype: int64"
      ]
     },
     "execution_count": 265,
     "metadata": {},
     "output_type": "execute_result"
    }
   ],
   "source": [
    "KJUS15.count()"
   ]
  },
  {
   "cell_type": "code",
   "execution_count": null,
   "metadata": {},
   "outputs": [],
   "source": []
  },
  {
   "cell_type": "code",
   "execution_count": null,
   "metadata": {},
   "outputs": [],
   "source": []
  },
  {
   "cell_type": "markdown",
   "metadata": {},
   "source": [
    "## 2014년 한일 관계 관련 기사들\n",
    "Y14는 2014년도 '한일'이라는 키워드를 포함한 신문 기사들을 웹크롤링한 결과들이다. "
   ]
  },
  {
   "cell_type": "code",
   "execution_count": 123,
   "metadata": {},
   "outputs": [],
   "source": [
    "Y14 = pd.read_csv('Y2014.csv')"
   ]
  },
  {
   "cell_type": "code",
   "execution_count": 262,
   "metadata": {},
   "outputs": [],
   "source": [
    "#US14 = Y14[(Y14['title'].str.contains('한일')) & ~(Y14['title'].str.contains('미래')) & (Y14['title'].str.contains('미'))]\n",
    "#US14.head(1)\n",
    "#US14.count()"
   ]
  },
  {
   "cell_type": "code",
   "execution_count": null,
   "metadata": {},
   "outputs": [],
   "source": [
    "KJUS14 = Y14[(Y14[\"title\"].str.contains(\"한일\")) & ((Y14[\"title\"].str.contains(\"미국\")) | (Y14['title'].str.contains(\"미정부\")) | (Y14['title'].str.contains(\"美\")) | (Y14['title'].str.contains(\"트럼프\")))]"
   ]
  },
  {
   "cell_type": "code",
   "execution_count": 263,
   "metadata": {},
   "outputs": [
    {
     "data": {
      "text/plain": [
       "Unnamed: 0    26\n",
       "date          26\n",
       "title         26\n",
       "source        26\n",
       "contents      26\n",
       "link          26\n",
       "dtype: int64"
      ]
     },
     "execution_count": 263,
     "metadata": {},
     "output_type": "execute_result"
    }
   ],
   "source": [
    "KJUS14.count()"
   ]
  },
  {
   "cell_type": "code",
   "execution_count": 202,
   "metadata": {},
   "outputs": [],
   "source": []
  },
  {
   "cell_type": "code",
   "execution_count": null,
   "metadata": {},
   "outputs": [],
   "source": []
  },
  {
   "cell_type": "code",
   "execution_count": null,
   "metadata": {},
   "outputs": [],
   "source": []
  },
  {
   "cell_type": "markdown",
   "metadata": {},
   "source": [
    "## 2013년 한일 관계 관련 기사들\n",
    "Y13는 2013년도 '한일'이라는 키워드를 포함한 신문 기사들을 웹크롤링한 결과들이다. "
   ]
  },
  {
   "cell_type": "code",
   "execution_count": 141,
   "metadata": {},
   "outputs": [],
   "source": [
    "Y13 = pd.read_csv('Y2013.csv')"
   ]
  },
  {
   "cell_type": "code",
   "execution_count": 258,
   "metadata": {},
   "outputs": [],
   "source": [
    "#US13 = Y13[(Y13['title'].str.contains('한일')) & ~(Y13['title'].str.contains('미래')) & (Y13['title'].str.contains('미'))]\n",
    "#US13.head(1)\n",
    "#US13.count()"
   ]
  },
  {
   "cell_type": "code",
   "execution_count": null,
   "metadata": {},
   "outputs": [],
   "source": [
    "KJUS13 = Y13[(Y13[\"title\"].str.contains(\"한일\")) & ((Y13[\"title\"].str.contains(\"미국\")) | (Y13['title'].str.contains(\"미정부\")) | (Y13['title'].str.contains(\"美\")) | (Y13['title'].str.contains(\"트럼프\")))]"
   ]
  },
  {
   "cell_type": "code",
   "execution_count": 261,
   "metadata": {},
   "outputs": [
    {
     "data": {
      "text/plain": [
       "Unnamed: 0    33\n",
       "date          33\n",
       "title         33\n",
       "source        33\n",
       "contents      33\n",
       "link          33\n",
       "dtype: int64"
      ]
     },
     "execution_count": 261,
     "metadata": {},
     "output_type": "execute_result"
    }
   ],
   "source": [
    "KJUS13.count()"
   ]
  },
  {
   "cell_type": "code",
   "execution_count": 259,
   "metadata": {},
   "outputs": [],
   "source": []
  },
  {
   "cell_type": "code",
   "execution_count": null,
   "metadata": {},
   "outputs": [],
   "source": []
  },
  {
   "cell_type": "code",
   "execution_count": null,
   "metadata": {},
   "outputs": [],
   "source": []
  },
  {
   "cell_type": "markdown",
   "metadata": {},
   "source": [
    "## 2012년 한일 관계 관련 기사들\n",
    "Y12는 2012년도 '한일'이라는 키워드를 포함한 신문 기사들을 웹크롤링한 결과들이다. "
   ]
  },
  {
   "cell_type": "code",
   "execution_count": 152,
   "metadata": {},
   "outputs": [],
   "source": [
    "Y12 = pd.read_csv('Y2012.csv')"
   ]
  },
  {
   "cell_type": "code",
   "execution_count": 256,
   "metadata": {},
   "outputs": [],
   "source": [
    "#US12 = Y12[(Y12['title'].str.contains('한일')) & ~(Y12['title'].str.contains('미래')) & (Y12['title'].str.contains('미'))]\n",
    "#US12.count()\n",
    "#US12.head(1)"
   ]
  },
  {
   "cell_type": "code",
   "execution_count": 253,
   "metadata": {},
   "outputs": [],
   "source": [
    "KJUS12 = Y12[(Y12[\"title\"].str.contains(\"한일\")) & ((Y12[\"title\"].str.contains(\"미국\")) | (Y12['title'].str.contains(\"미정부\")) | (Y12['title'].str.contains(\"美\")) | (Y12['title'].str.contains(\"트럼프\")))]"
   ]
  },
  {
   "cell_type": "code",
   "execution_count": 257,
   "metadata": {},
   "outputs": [
    {
     "data": {
      "text/plain": [
       "Unnamed: 0    27\n",
       "date          27\n",
       "title         27\n",
       "source        27\n",
       "contents      27\n",
       "link          27\n",
       "dtype: int64"
      ]
     },
     "execution_count": 257,
     "metadata": {},
     "output_type": "execute_result"
    }
   ],
   "source": [
    "KJUS12.count()"
   ]
  },
  {
   "cell_type": "code",
   "execution_count": null,
   "metadata": {},
   "outputs": [],
   "source": []
  },
  {
   "cell_type": "code",
   "execution_count": null,
   "metadata": {},
   "outputs": [],
   "source": []
  },
  {
   "cell_type": "code",
   "execution_count": null,
   "metadata": {},
   "outputs": [],
   "source": []
  },
  {
   "cell_type": "markdown",
   "metadata": {},
   "source": [
    "## 2011년 한일 관계 관련 기사들\n",
    "Y11는 2011년도 '한일'이라는 키워드를 포함한 신문 기사들을 웹크롤링한 결과들이다. "
   ]
  },
  {
   "cell_type": "code",
   "execution_count": 160,
   "metadata": {},
   "outputs": [],
   "source": [
    "Y11 = pd.read_csv('Y2011.csv')"
   ]
  },
  {
   "cell_type": "code",
   "execution_count": 161,
   "metadata": {},
   "outputs": [],
   "source": [
    "#US11 = Y11[(Y11['title'].str.contains('한일')) & ~(Y11['title'].str.contains('미래')) & (Y11['title'].str.contains('미'))]"
   ]
  },
  {
   "cell_type": "code",
   "execution_count": 251,
   "metadata": {},
   "outputs": [],
   "source": [
    "#US11.count()"
   ]
  },
  {
   "cell_type": "code",
   "execution_count": 252,
   "metadata": {},
   "outputs": [],
   "source": [
    "#US11"
   ]
  },
  {
   "cell_type": "code",
   "execution_count": 209,
   "metadata": {},
   "outputs": [],
   "source": [
    "KJUS11 = Y11[(Y11[\"title\"].str.contains(\"한일\")) & ((Y11[\"title\"].str.contains(\"미국\")) | (Y11['title'].str.contains(\"미정부\")) | (Y11['title'].str.contains(\"美\")) | (Y11['title'].str.contains(\"트럼프\")))]"
   ]
  },
  {
   "cell_type": "code",
   "execution_count": 210,
   "metadata": {},
   "outputs": [
    {
     "data": {
      "text/plain": [
       "Unnamed: 0    15\n",
       "date          15\n",
       "title         15\n",
       "source        15\n",
       "contents      15\n",
       "link          15\n",
       "dtype: int64"
      ]
     },
     "execution_count": 210,
     "metadata": {},
     "output_type": "execute_result"
    }
   ],
   "source": [
    "KJUS11.count()"
   ]
  },
  {
   "cell_type": "code",
   "execution_count": null,
   "metadata": {},
   "outputs": [],
   "source": []
  },
  {
   "cell_type": "markdown",
   "metadata": {},
   "source": [
    "## 2010년 한일 관계 관련 기사들\n",
    "Y10는 2010년도 '한일'이라는 키워드를 포함한 신문 기사들을 웹크롤링한 결과들이다. "
   ]
  },
  {
   "cell_type": "code",
   "execution_count": 214,
   "metadata": {},
   "outputs": [],
   "source": [
    "Y10 = pd.read_csv('Y2010.csv')"
   ]
  },
  {
   "cell_type": "code",
   "execution_count": 215,
   "metadata": {},
   "outputs": [],
   "source": [
    "KJUS10 = Y10[(Y10[\"title\"].str.contains(\"한일\")) & ((Y10[\"title\"].str.contains(\"미국\")) | (Y10['title'].str.contains(\"미정부\")) | (Y10['title'].str.contains(\"美\")) | (Y10['title'].str.contains(\"트럼프\")))]"
   ]
  },
  {
   "cell_type": "code",
   "execution_count": 217,
   "metadata": {},
   "outputs": [
    {
     "data": {
      "text/plain": [
       "Unnamed: 0    5\n",
       "date          5\n",
       "title         5\n",
       "source        5\n",
       "contents      5\n",
       "link          5\n",
       "dtype: int64"
      ]
     },
     "execution_count": 217,
     "metadata": {},
     "output_type": "execute_result"
    }
   ],
   "source": [
    "KJUS10.count()"
   ]
  },
  {
   "cell_type": "code",
   "execution_count": null,
   "metadata": {},
   "outputs": [],
   "source": []
  }
 ],
 "metadata": {
  "kernelspec": {
   "display_name": "Python 3",
   "language": "python",
   "name": "python3"
  },
  "language_info": {
   "codemirror_mode": {
    "name": "ipython",
    "version": 3
   },
   "file_extension": ".py",
   "mimetype": "text/x-python",
   "name": "python",
   "nbconvert_exporter": "python",
   "pygments_lexer": "ipython3",
   "version": "3.7.3"
  }
 },
 "nbformat": 4,
 "nbformat_minor": 2
}
